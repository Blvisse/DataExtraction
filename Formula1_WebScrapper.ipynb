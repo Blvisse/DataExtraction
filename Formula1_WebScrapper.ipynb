{
  "nbformat": 4,
  "nbformat_minor": 0,
  "metadata": {
    "colab": {
      "name": "Formula1 WebScrapper.ipynb",
      "provenance": [],
      "collapsed_sections": [],
      "toc_visible": true,
      "authorship_tag": "ABX9TyOgushSX/Wxb9kzGJdFpGkS",
      "include_colab_link": true
    },
    "kernelspec": {
      "name": "python3",
      "display_name": "Python 3"
    }
  },
  "cells": [
    {
      "cell_type": "markdown",
      "metadata": {
        "id": "view-in-github",
        "colab_type": "text"
      },
      "source": [
        "<a href=\"https://colab.research.google.com/github/Blvisse/DataExtraction/blob/master/Formula1_WebScrapper.ipynb\" target=\"_parent\"><img src=\"https://colab.research.google.com/assets/colab-badge.svg\" alt=\"Open In Colab\"/></a>"
      ]
    },
    {
      "cell_type": "code",
      "metadata": {
        "id": "gLusGCi--rVV"
      },
      "source": [
        "import pandas as pd\r\n",
        "import numpy as np"
      ],
      "execution_count": 1,
      "outputs": []
    },
    {
      "cell_type": "code",
      "metadata": {
        "id": "MYek1utM_q6-"
      },
      "source": [
        "import bs4 as bs\r\n",
        "from requests import get\r\n",
        "from urllib.request import urlopen\r\n",
        "import pandas as pd"
      ],
      "execution_count": 2,
      "outputs": []
    },
    {
      "cell_type": "code",
      "metadata": {
        "id": "iqN9F3zG-wFK"
      },
      "source": [
        "source=urlopen(\"https://www.formula1.com/en/results.html/1950/races/94/great-britain/race-result.html\")\r\n",
        "soup=bs.BeautifulSoup(source,'lxml')\r\n",
        "table=soup.find('table')\r\n",
        "data=pd.read_html(str(table),flavor='bs4', header=[0])[0]\r\n",
        "data.drop([\"Unnamed: 0\",\"Unnamed: 8\"],axis=1,inplace=True)\r\n"
      ],
      "execution_count": 3,
      "outputs": []
    },
    {
      "cell_type": "code",
      "metadata": {
        "colab": {
          "base_uri": "https://localhost:8080/",
          "height": 757
        },
        "id": "j4T2N3Zf_wR1",
        "outputId": "3a49c06c-5d40-4ce0-8b9f-3aa8cf1b6878"
      },
      "source": [
        "data"
      ],
      "execution_count": 4,
      "outputs": [
        {
          "output_type": "execute_result",
          "data": {
            "text/html": [
              "<div>\n",
              "<style scoped>\n",
              "    .dataframe tbody tr th:only-of-type {\n",
              "        vertical-align: middle;\n",
              "    }\n",
              "\n",
              "    .dataframe tbody tr th {\n",
              "        vertical-align: top;\n",
              "    }\n",
              "\n",
              "    .dataframe thead th {\n",
              "        text-align: right;\n",
              "    }\n",
              "</style>\n",
              "<table border=\"1\" class=\"dataframe\">\n",
              "  <thead>\n",
              "    <tr style=\"text-align: right;\">\n",
              "      <th></th>\n",
              "      <th>Pos</th>\n",
              "      <th>No</th>\n",
              "      <th>Driver</th>\n",
              "      <th>Car</th>\n",
              "      <th>Laps</th>\n",
              "      <th>Time/Retired</th>\n",
              "      <th>PTS</th>\n",
              "    </tr>\n",
              "  </thead>\n",
              "  <tbody>\n",
              "    <tr>\n",
              "      <th>0</th>\n",
              "      <td>1</td>\n",
              "      <td>2</td>\n",
              "      <td>Nino Farina FAR</td>\n",
              "      <td>Alfa Romeo</td>\n",
              "      <td>70.0</td>\n",
              "      <td>2:13:23.600</td>\n",
              "      <td>9</td>\n",
              "    </tr>\n",
              "    <tr>\n",
              "      <th>1</th>\n",
              "      <td>2</td>\n",
              "      <td>3</td>\n",
              "      <td>Luigi Fagioli FAG</td>\n",
              "      <td>Alfa Romeo</td>\n",
              "      <td>70.0</td>\n",
              "      <td>+2.600s</td>\n",
              "      <td>6</td>\n",
              "    </tr>\n",
              "    <tr>\n",
              "      <th>2</th>\n",
              "      <td>3</td>\n",
              "      <td>4</td>\n",
              "      <td>Reg Parnell PAR</td>\n",
              "      <td>Alfa Romeo</td>\n",
              "      <td>70.0</td>\n",
              "      <td>+52.000s</td>\n",
              "      <td>4</td>\n",
              "    </tr>\n",
              "    <tr>\n",
              "      <th>3</th>\n",
              "      <td>4</td>\n",
              "      <td>14</td>\n",
              "      <td>Yves Giraud Cabantous CAB</td>\n",
              "      <td>Talbot-Lago</td>\n",
              "      <td>68.0</td>\n",
              "      <td>+2 laps</td>\n",
              "      <td>3</td>\n",
              "    </tr>\n",
              "    <tr>\n",
              "      <th>4</th>\n",
              "      <td>5</td>\n",
              "      <td>15</td>\n",
              "      <td>Louis Rosier ROS</td>\n",
              "      <td>Talbot-Lago</td>\n",
              "      <td>68.0</td>\n",
              "      <td>+2 laps</td>\n",
              "      <td>2</td>\n",
              "    </tr>\n",
              "    <tr>\n",
              "      <th>5</th>\n",
              "      <td>6</td>\n",
              "      <td>12</td>\n",
              "      <td>Bob Gerard GER</td>\n",
              "      <td>ERA</td>\n",
              "      <td>67.0</td>\n",
              "      <td>+3 laps</td>\n",
              "      <td>0</td>\n",
              "    </tr>\n",
              "    <tr>\n",
              "      <th>6</th>\n",
              "      <td>7</td>\n",
              "      <td>11</td>\n",
              "      <td>Cuth Harrison HAR</td>\n",
              "      <td>ERA</td>\n",
              "      <td>67.0</td>\n",
              "      <td>+3 laps</td>\n",
              "      <td>0</td>\n",
              "    </tr>\n",
              "    <tr>\n",
              "      <th>7</th>\n",
              "      <td>8</td>\n",
              "      <td>16</td>\n",
              "      <td>Philippe Etancelin ETA</td>\n",
              "      <td>Talbot-Lago</td>\n",
              "      <td>65.0</td>\n",
              "      <td>+5 laps</td>\n",
              "      <td>0</td>\n",
              "    </tr>\n",
              "    <tr>\n",
              "      <th>8</th>\n",
              "      <td>9</td>\n",
              "      <td>6</td>\n",
              "      <td>David Hampshire HAM</td>\n",
              "      <td>Maserati</td>\n",
              "      <td>64.0</td>\n",
              "      <td>+6 laps</td>\n",
              "      <td>0</td>\n",
              "    </tr>\n",
              "    <tr>\n",
              "      <th>9</th>\n",
              "      <td>10</td>\n",
              "      <td>10</td>\n",
              "      <td>Joe Fry FRY</td>\n",
              "      <td>Maserati</td>\n",
              "      <td>NaN</td>\n",
              "      <td>SHC</td>\n",
              "      <td>0</td>\n",
              "    </tr>\n",
              "    <tr>\n",
              "      <th>10</th>\n",
              "      <td>10</td>\n",
              "      <td>10</td>\n",
              "      <td>Brian Shawe-Taylor SHA</td>\n",
              "      <td>Maserati</td>\n",
              "      <td>64.0</td>\n",
              "      <td>+6 laps</td>\n",
              "      <td>0</td>\n",
              "    </tr>\n",
              "    <tr>\n",
              "      <th>11</th>\n",
              "      <td>11</td>\n",
              "      <td>18</td>\n",
              "      <td>Johnny Claes CLA</td>\n",
              "      <td>Talbot-Lago</td>\n",
              "      <td>64.0</td>\n",
              "      <td>+6 laps</td>\n",
              "      <td>0</td>\n",
              "    </tr>\n",
              "    <tr>\n",
              "      <th>12</th>\n",
              "      <td>NC</td>\n",
              "      <td>1</td>\n",
              "      <td>Juan Manuel Fangio FAN</td>\n",
              "      <td>Alfa Romeo</td>\n",
              "      <td>62.0</td>\n",
              "      <td>DNF</td>\n",
              "      <td>0</td>\n",
              "    </tr>\n",
              "    <tr>\n",
              "      <th>13</th>\n",
              "      <td>NC</td>\n",
              "      <td>23</td>\n",
              "      <td>Joe Kelly KEL</td>\n",
              "      <td>Alta</td>\n",
              "      <td>57.0</td>\n",
              "      <td>+13 laps</td>\n",
              "      <td>0</td>\n",
              "    </tr>\n",
              "    <tr>\n",
              "      <th>14</th>\n",
              "      <td>NC</td>\n",
              "      <td>21</td>\n",
              "      <td>Prince Bira BIR</td>\n",
              "      <td>Maserati</td>\n",
              "      <td>49.0</td>\n",
              "      <td>DNF</td>\n",
              "      <td>0</td>\n",
              "    </tr>\n",
              "    <tr>\n",
              "      <th>15</th>\n",
              "      <td>NC</td>\n",
              "      <td>5</td>\n",
              "      <td>David Murray MUR</td>\n",
              "      <td>Maserati</td>\n",
              "      <td>44.0</td>\n",
              "      <td>DNF</td>\n",
              "      <td>0</td>\n",
              "    </tr>\n",
              "    <tr>\n",
              "      <th>16</th>\n",
              "      <td>NC</td>\n",
              "      <td>24</td>\n",
              "      <td>Geoff Crossley CRO</td>\n",
              "      <td>Alta</td>\n",
              "      <td>43.0</td>\n",
              "      <td>DNF</td>\n",
              "      <td>0</td>\n",
              "    </tr>\n",
              "    <tr>\n",
              "      <th>17</th>\n",
              "      <td>NC</td>\n",
              "      <td>20</td>\n",
              "      <td>Toulo de Graffenried DEG</td>\n",
              "      <td>Maserati</td>\n",
              "      <td>36.0</td>\n",
              "      <td>DNF</td>\n",
              "      <td>0</td>\n",
              "    </tr>\n",
              "    <tr>\n",
              "      <th>18</th>\n",
              "      <td>NC</td>\n",
              "      <td>19</td>\n",
              "      <td>Louis Chiron CHI</td>\n",
              "      <td>Maserati</td>\n",
              "      <td>24.0</td>\n",
              "      <td>DNF</td>\n",
              "      <td>0</td>\n",
              "    </tr>\n",
              "    <tr>\n",
              "      <th>19</th>\n",
              "      <td>NC</td>\n",
              "      <td>17</td>\n",
              "      <td>Eugene Martin MAR</td>\n",
              "      <td>Talbot-Lago</td>\n",
              "      <td>8.0</td>\n",
              "      <td>DNF</td>\n",
              "      <td>0</td>\n",
              "    </tr>\n",
              "    <tr>\n",
              "      <th>20</th>\n",
              "      <td>NC</td>\n",
              "      <td>9</td>\n",
              "      <td>Peter Walker WAL</td>\n",
              "      <td>ERA</td>\n",
              "      <td>NaN</td>\n",
              "      <td>SHC</td>\n",
              "      <td>0</td>\n",
              "    </tr>\n",
              "    <tr>\n",
              "      <th>21</th>\n",
              "      <td>NC</td>\n",
              "      <td>9</td>\n",
              "      <td>Tony Rolt ROL</td>\n",
              "      <td>ERA</td>\n",
              "      <td>5.0</td>\n",
              "      <td>DNF</td>\n",
              "      <td>0</td>\n",
              "    </tr>\n",
              "    <tr>\n",
              "      <th>22</th>\n",
              "      <td>NC</td>\n",
              "      <td>8</td>\n",
              "      <td>Leslie Johnson JOH</td>\n",
              "      <td>ERA</td>\n",
              "      <td>2.0</td>\n",
              "      <td>DNF</td>\n",
              "      <td>0</td>\n",
              "    </tr>\n",
              "  </tbody>\n",
              "</table>\n",
              "</div>"
            ],
            "text/plain": [
              "   Pos  No                     Driver          Car  Laps Time/Retired  PTS\n",
              "0    1   2            Nino Farina FAR   Alfa Romeo  70.0  2:13:23.600    9\n",
              "1    2   3          Luigi Fagioli FAG   Alfa Romeo  70.0      +2.600s    6\n",
              "2    3   4            Reg Parnell PAR   Alfa Romeo  70.0     +52.000s    4\n",
              "3    4  14  Yves Giraud Cabantous CAB  Talbot-Lago  68.0      +2 laps    3\n",
              "4    5  15           Louis Rosier ROS  Talbot-Lago  68.0      +2 laps    2\n",
              "5    6  12             Bob Gerard GER          ERA  67.0      +3 laps    0\n",
              "6    7  11          Cuth Harrison HAR          ERA  67.0      +3 laps    0\n",
              "7    8  16     Philippe Etancelin ETA  Talbot-Lago  65.0      +5 laps    0\n",
              "8    9   6        David Hampshire HAM     Maserati  64.0      +6 laps    0\n",
              "9   10  10                Joe Fry FRY     Maserati   NaN          SHC    0\n",
              "10  10  10     Brian Shawe-Taylor SHA     Maserati  64.0      +6 laps    0\n",
              "11  11  18           Johnny Claes CLA  Talbot-Lago  64.0      +6 laps    0\n",
              "12  NC   1     Juan Manuel Fangio FAN   Alfa Romeo  62.0          DNF    0\n",
              "13  NC  23              Joe Kelly KEL         Alta  57.0     +13 laps    0\n",
              "14  NC  21            Prince Bira BIR     Maserati  49.0          DNF    0\n",
              "15  NC   5           David Murray MUR     Maserati  44.0          DNF    0\n",
              "16  NC  24         Geoff Crossley CRO         Alta  43.0          DNF    0\n",
              "17  NC  20   Toulo de Graffenried DEG     Maserati  36.0          DNF    0\n",
              "18  NC  19           Louis Chiron CHI     Maserati  24.0          DNF    0\n",
              "19  NC  17          Eugene Martin MAR  Talbot-Lago   8.0          DNF    0\n",
              "20  NC   9           Peter Walker WAL          ERA   NaN          SHC    0\n",
              "21  NC   9              Tony Rolt ROL          ERA   5.0          DNF    0\n",
              "22  NC   8         Leslie Johnson JOH          ERA   2.0          DNF    0"
            ]
          },
          "metadata": {
            "tags": []
          },
          "execution_count": 4
        }
      ]
    },
    {
      "cell_type": "code",
      "metadata": {
        "id": "RTUwjFzgJ17B"
      },
      "source": [
        "HOMEPAGE = 'https://www.formula1.com/'\r\n",
        "YEAR = '1990'\r\n",
        "race_result='race-result.html'"
      ],
      "execution_count": 5,
      "outputs": []
    },
    {
      "cell_type": "code",
      "metadata": {
        "id": "V7NQ96Nr_xgZ"
      },
      "source": [
        "def get_race_urls(year):\r\n",
        "    race_urls = []\r\n",
        "    source =urlopen(f\"https://www.formula1.com/en/results.html/{YEAR}/races.html\").read()\r\n",
        "    soup=bs.BeautifulSoup(source,'lxml')\r\n",
        "    \r\n",
        "    \r\n",
        "    \r\n",
        "    for url in soup.find_all('a'):\r\n",
        "        if YEAR in str(url.get('href')) and 'race-result' in str(url.get('href'))and url.get('href') not in race_urls:\r\n",
        "                                        \r\n",
        "            race_urls.append(url.get('href'))\r\n",
        "    return race_urls"
      ],
      "execution_count": 6,
      "outputs": []
    },
    {
      "cell_type": "code",
      "metadata": {
        "id": "swF2cjHGClW2"
      },
      "source": [
        "race_urls=get_race_urls(YEAR)"
      ],
      "execution_count": 7,
      "outputs": []
    },
    {
      "cell_type": "code",
      "metadata": {
        "colab": {
          "base_uri": "https://localhost:8080/"
        },
        "id": "cOToMPPmCq4k",
        "outputId": "0e026923-9619-471f-eeb1-35722c32b88c"
      },
      "source": [
        "race_urls"
      ],
      "execution_count": 8,
      "outputs": [
        {
          "output_type": "execute_result",
          "data": {
            "text/plain": [
              "['/en/results.html/1990/races/64/united-states/race-result.html',\n",
              " '/en/results.html/1990/races/65/brazil/race-result.html',\n",
              " '/en/results.html/1990/races/66/san-marino/race-result.html',\n",
              " '/en/results.html/1990/races/67/monaco/race-result.html',\n",
              " '/en/results.html/1990/races/68/canada/race-result.html',\n",
              " '/en/results.html/1990/races/69/mexico/race-result.html',\n",
              " '/en/results.html/1990/races/70/france/race-result.html',\n",
              " '/en/results.html/1990/races/71/great-britain/race-result.html',\n",
              " '/en/results.html/1990/races/72/germany/race-result.html',\n",
              " '/en/results.html/1990/races/73/hungary/race-result.html',\n",
              " '/en/results.html/1990/races/74/belgium/race-result.html',\n",
              " '/en/results.html/1990/races/75/italy/race-result.html',\n",
              " '/en/results.html/1990/races/76/portugal/race-result.html',\n",
              " '/en/results.html/1990/races/77/spain/race-result.html',\n",
              " '/en/results.html/1990/races/78/japan/race-result.html',\n",
              " '/en/results.html/1990/races/79/australia/race-result.html']"
            ]
          },
          "metadata": {
            "tags": []
          },
          "execution_count": 8
        }
      ]
    },
    {
      "cell_type": "code",
      "metadata": {
        "id": "M7XQ0TZYJ67n"
      },
      "source": [
        "\r\n",
        "season_results_df = None\r\n",
        "\r\n",
        "\r\n",
        "def seasons_results(race_urls):\r\n",
        "\r\n",
        "    for n, race in enumerate(race_urls):\r\n",
        "\r\n",
        "        placeholder = [0 for i in range(n)]\r\n",
        "        race_name = race.split('/')[6]\r\n",
        "\r\n",
        "        results_page = urlopen(f\"{HOMEPAGE}{race}\").read()\r\n",
        "        race_results =bs.BeautifulSoup(results_page,'lxml')\r\n",
        "\r\n",
        "        table = race_results.find_all('table')[0] \r\n",
        "        df = pd.read_html(str(table), flavor='bs4', header=[0])[0]\r\n",
        "        df.drop([\"Unnamed: 0\",\"Unnamed: 8\"], axis=1, inplace=True)\r\n",
        "        df.set_index('No', inplace=True)\r\n",
        "\r\n",
        "        #establish season results df on first race information\r\n",
        "        if n == 0:\r\n",
        "            season_results_df = pd.DataFrame(df[['Driver','Car']], columns=['Driver','Car'], index=df.index)\r\n",
        "       \r\n",
        "        #add drivers if they are not in season_results_df\r\n",
        "        for ind in df.index.difference(season_results_df.index):\r\n",
        "            season_results_df.loc[ind] = [df['Driver'].loc[ind],df['Car'].loc[ind],*placeholder]\r\n",
        "\r\n",
        "        for ind in df.index:\r\n",
        "            pts = df['PTS'].where(df.index == ind).dropna().values[0]\r\n",
        "#             if pts == 9:\r\n",
        "#                 pts = 10 #if mapping differnt points systems\r\n",
        "            season_results_df.loc[ind, race_name] = int(pts)\r\n",
        "    \r\n",
        "    #####Format the dataframe with a few lines#####\r\n",
        "    season_results_df.sort_index(inplace=True)\r\n",
        "    season_results_df.fillna(0, inplace=True)   \r\n",
        "    season_results_df['Car'] = season_results_df['Car'].apply(lambda s : s[:3]).map(str.upper) #retain last 3 digits and caps\r\n",
        "    return season_results_df"
      ],
      "execution_count": 9,
      "outputs": []
    },
    {
      "cell_type": "code",
      "metadata": {
        "id": "R1BbSThlGzjJ"
      },
      "source": [
        "season_results_df = seasons_results(race_urls)\r\n",
        "season_results_df\r\n"
      ],
      "execution_count": null,
      "outputs": []
    },
    {
      "cell_type": "code",
      "metadata": {
        "id": "bJkAgSROG-bS"
      },
      "source": [
        "filename='DriverList.csv'\r\n",
        "season_results_df.to_csv(filename,index=False)"
      ],
      "execution_count": 11,
      "outputs": []
    },
    {
      "cell_type": "code",
      "metadata": {
        "id": "S37oLWqGE8Ij"
      },
      "source": [
        ""
      ],
      "execution_count": null,
      "outputs": []
    }
  ]
}